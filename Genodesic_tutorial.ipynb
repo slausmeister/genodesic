{
 "cells": [
  {
   "cell_type": "code",
   "execution_count": 8,
   "id": "e867a467",
   "metadata": {},
   "outputs": [],
   "source": [
    "import os\n",
    "import torch\n",
    "import argparse\n",
    "import matplotlib.pyplot as plt"
   ]
  },
  {
   "cell_type": "markdown",
   "id": "4cf67d81",
   "metadata": {},
   "source": [
    "# 0: Downloading the Schiebinger Dataset"
   ]
  },
  {
   "cell_type": "code",
   "execution_count": 9,
   "id": "3070d181",
   "metadata": {},
   "outputs": [
    {
     "name": "stdout",
     "output_type": "stream",
     "text": [
      "--- Schiebinger Dataset Downloader ---\n",
      "Directory Data/Schiebinger already exists and is not empty.\n",
      "Continuing: will attempt to extract/unpack any archives found in this directory.\n",
      "Skipping cleanup as no new download was performed.\n",
      "---\n",
      "Dataset is located in: Data/Schiebinger\n"
     ]
    }
   ],
   "source": [
    "%%bash\n",
    "./SchiebingerDownload.sh"
   ]
  },
  {
   "cell_type": "markdown",
   "id": "df3fba69",
   "metadata": {},
   "source": [
    "# 1: Extracting HVGs of chosen Branch\n"
   ]
  },
  {
   "cell_type": "code",
   "execution_count": 10,
   "id": "f48547b0",
   "metadata": {},
   "outputs": [],
   "source": [
    "data_directory = \"Data/Schiebinger\"\n",
    "output_directory = \"Pipeline/HVGs\"\n",
    "trunk = \"2i\"  # Options: \"serum\", \"2i\", \"both\"\n",
    "num_highly_variable_genes = 2000\n",
    "\n",
    "# Define the specific output filename\n",
    "tensor_filename = f\"schiebinger_hvg_tensor_trunk-{trunk}_{num_highly_variable_genes}hvg.pt\"\n",
    "tensor_path = os.path.join(output_directory, tensor_filename)\n",
    "\n",
    "reextract = False\n"
   ]
  },
  {
   "cell_type": "code",
   "execution_count": 11,
   "id": "26c36f99",
   "metadata": {},
   "outputs": [
    {
     "name": "stdout",
     "output_type": "stream",
     "text": [
      "File schiebinger_hvg_tensor_trunk-2i_2000hvg.pt already exists. Skipping HVG extraction.\n"
     ]
    }
   ],
   "source": [
    "from Pipeline.firstSelectHVGs import run_hvg_extraction\n",
    "\n",
    "if os.path.exists(tensor_path) and not reextract:\n",
    "    print(f\"File {tensor_filename} already exists. Skipping HVG extraction.\")\n",
    "else:\n",
    "    print(f\"Starting HVG extraction...\")\n",
    "    # --- 3. Call the function directly with your parameters ---\n",
    "    # This is clean, robust, and doesn't involve any argparse messiness.\n",
    "    hvg_fig = run_hvg_extraction(\n",
    "        data_dir=data_directory,\n",
    "        output_dir=output_directory,\n",
    "        output_file=tensor_filename,\n",
    "        trunk=trunk,\n",
    "        n_hvg=num_highly_variable_genes,\n",
    "        min_counts=2000,  \n",
    "        max_counts=50000,\n",
    "        min_cells=50,\n",
    "        debug=True\n",
    "    )\n",
    "\n",
    "    if hvg_fig:\n",
    "        print(\"\\nDisplaying diagnostic plot:\")\n",
    "        plt.show()\n",
    "\n"
   ]
  },
  {
   "cell_type": "markdown",
   "id": "9291c013",
   "metadata": {},
   "source": [
    "# 2: Training the Autoencoder"
   ]
  },
  {
   "cell_type": "code",
   "execution_count": 12,
   "id": "91baf53c",
   "metadata": {},
   "outputs": [],
   "source": [
    "model_save_path = f\"Models/Autoencoder/trunk-{trunk}.pt\"\n",
    "latent_save_path = f\"LatentSpace/trunk-{trunk}_latent.pt\"\n",
    "\n",
    "\n",
    "latent_dims = [660, 220 , 66, 24]\n",
    "\n",
    "batch_size = 64\n",
    "overdispersion = 0.3\n",
    "\n",
    "num_epochs = 30\n",
    "Training = True\n",
    "\n"
   ]
  },
  {
   "cell_type": "code",
   "execution_count": 13,
   "id": "eb9a821b",
   "metadata": {},
   "outputs": [
    {
     "name": "stdout",
     "output_type": "stream",
     "text": [
      "[Init] device=cuda    α=0.3    latent_dims=[660, 220, 66, 24]\n",
      "Loading data from: Pipeline/HVGs/schiebinger_hvg_tensor_trunk-2i_2000hvg.pt\n",
      "Dataset created with 172756 cells and 2000 genes.\n",
      "Splitting data: 138205 training samples and 34551 validation samples.\n",
      "[Init] detected HVGs: 2000\n",
      "\n",
      "--- Training ---------------------------------------------------\n"
     ]
    },
    {
     "name": "stderr",
     "output_type": "stream",
     "text": [
      "                                                                       \r"
     ]
    },
    {
     "name": "stdout",
     "output_type": "stream",
     "text": [
      "[Epoch   1/30] train=0.5234  val=0.5149  time=  5.5s\n"
     ]
    },
    {
     "name": "stderr",
     "output_type": "stream",
     "text": [
      "                                                                       \r"
     ]
    },
    {
     "name": "stdout",
     "output_type": "stream",
     "text": [
      "[Epoch   2/30] train=0.5121  val=0.5115  time=  3.6s\n"
     ]
    },
    {
     "name": "stderr",
     "output_type": "stream",
     "text": [
      "                                                                       \r"
     ]
    },
    {
     "name": "stdout",
     "output_type": "stream",
     "text": [
      "[Epoch   3/30] train=0.5099  val=0.5101  time=  3.6s\n"
     ]
    },
    {
     "name": "stderr",
     "output_type": "stream",
     "text": [
      "                                                                       \r"
     ]
    },
    {
     "name": "stdout",
     "output_type": "stream",
     "text": [
      "[Epoch   4/30] train=0.5088  val=0.5092  time=  3.4s\n"
     ]
    },
    {
     "name": "stderr",
     "output_type": "stream",
     "text": [
      "                                                                       \r"
     ]
    },
    {
     "name": "stdout",
     "output_type": "stream",
     "text": [
      "[Epoch   5/30] train=0.5080  val=0.5088  time=  3.6s\n"
     ]
    },
    {
     "name": "stderr",
     "output_type": "stream",
     "text": [
      "                                                                       \r"
     ]
    },
    {
     "name": "stdout",
     "output_type": "stream",
     "text": [
      "[Epoch   6/30] train=0.5075  val=0.5083  time=  3.5s\n"
     ]
    },
    {
     "name": "stderr",
     "output_type": "stream",
     "text": [
      "                                                                       \r"
     ]
    },
    {
     "name": "stdout",
     "output_type": "stream",
     "text": [
      "[Epoch   7/30] train=0.5071  val=0.5082  time=  3.7s\n"
     ]
    },
    {
     "name": "stderr",
     "output_type": "stream",
     "text": [
      "                                                                       \r"
     ]
    },
    {
     "name": "stdout",
     "output_type": "stream",
     "text": [
      "[Epoch   8/30] train=0.5069  val=0.5080  time=  3.2s\n"
     ]
    },
    {
     "name": "stderr",
     "output_type": "stream",
     "text": [
      "                                                                       \r"
     ]
    },
    {
     "name": "stdout",
     "output_type": "stream",
     "text": [
      "[Epoch   9/30] train=0.5066  val=0.5077  time=  3.6s\n"
     ]
    },
    {
     "name": "stderr",
     "output_type": "stream",
     "text": [
      "                                                                       \r"
     ]
    },
    {
     "name": "stdout",
     "output_type": "stream",
     "text": [
      "[Epoch  10/30] train=0.5064  val=0.5076  time=  3.4s\n"
     ]
    },
    {
     "name": "stderr",
     "output_type": "stream",
     "text": [
      "                                                                       \r"
     ]
    },
    {
     "name": "stdout",
     "output_type": "stream",
     "text": [
      "[Epoch  11/30] train=0.5062  val=0.5075  time=  2.9s\n"
     ]
    },
    {
     "name": "stderr",
     "output_type": "stream",
     "text": [
      "                                                                       \r"
     ]
    },
    {
     "name": "stdout",
     "output_type": "stream",
     "text": [
      "[Epoch  12/30] train=0.5061  val=0.5073  time=  2.9s\n"
     ]
    },
    {
     "name": "stderr",
     "output_type": "stream",
     "text": [
      "                                                                       \r"
     ]
    },
    {
     "name": "stdout",
     "output_type": "stream",
     "text": [
      "[Epoch  13/30] train=0.5059  val=0.5073  time=  2.9s\n"
     ]
    },
    {
     "name": "stderr",
     "output_type": "stream",
     "text": [
      "                                                                       \r"
     ]
    },
    {
     "name": "stdout",
     "output_type": "stream",
     "text": [
      "[Epoch  14/30] train=0.5058  val=0.5072  time=  2.9s\n"
     ]
    },
    {
     "name": "stderr",
     "output_type": "stream",
     "text": [
      "                                                                       \r"
     ]
    },
    {
     "name": "stdout",
     "output_type": "stream",
     "text": [
      "[Epoch  15/30] train=0.5057  val=0.5071  time=  3.7s\n"
     ]
    },
    {
     "name": "stderr",
     "output_type": "stream",
     "text": [
      "                                                                       \r"
     ]
    },
    {
     "name": "stdout",
     "output_type": "stream",
     "text": [
      "[Epoch  16/30] train=0.5056  val=0.5071  time=  3.7s\n"
     ]
    },
    {
     "name": "stderr",
     "output_type": "stream",
     "text": [
      "                                                                       \r"
     ]
    },
    {
     "name": "stdout",
     "output_type": "stream",
     "text": [
      "[Epoch  17/30] train=0.5055  val=0.5070  time=  3.7s\n"
     ]
    },
    {
     "name": "stderr",
     "output_type": "stream",
     "text": [
      "                                                                       \r"
     ]
    },
    {
     "name": "stdout",
     "output_type": "stream",
     "text": [
      "[Epoch  18/30] train=0.5054  val=0.5069  time=  3.7s\n"
     ]
    },
    {
     "name": "stderr",
     "output_type": "stream",
     "text": [
      "                                                                       \r"
     ]
    },
    {
     "name": "stdout",
     "output_type": "stream",
     "text": [
      "[Epoch  19/30] train=0.5054  val=0.5069  time=  3.5s\n"
     ]
    },
    {
     "name": "stderr",
     "output_type": "stream",
     "text": [
      "                                                                       \r"
     ]
    },
    {
     "name": "stdout",
     "output_type": "stream",
     "text": [
      "[Epoch  20/30] train=0.5053  val=0.5070  time=  3.7s\n"
     ]
    },
    {
     "name": "stderr",
     "output_type": "stream",
     "text": [
      "                                                                       \r"
     ]
    },
    {
     "name": "stdout",
     "output_type": "stream",
     "text": [
      "[Epoch  21/30] train=0.5053  val=0.5070  time=  3.6s\n"
     ]
    },
    {
     "name": "stderr",
     "output_type": "stream",
     "text": [
      "                                                                       \r"
     ]
    },
    {
     "name": "stdout",
     "output_type": "stream",
     "text": [
      "[Epoch  22/30] train=0.5052  val=0.5069  time=  3.6s\n"
     ]
    },
    {
     "name": "stderr",
     "output_type": "stream",
     "text": [
      "                                                                       \r"
     ]
    },
    {
     "name": "stdout",
     "output_type": "stream",
     "text": [
      "[Epoch  23/30] train=0.5051  val=0.5070  time=  3.2s\n"
     ]
    },
    {
     "name": "stderr",
     "output_type": "stream",
     "text": [
      "                                                                       \r"
     ]
    },
    {
     "name": "stdout",
     "output_type": "stream",
     "text": [
      "[Epoch  24/30] train=0.5051  val=0.5068  time=  3.6s\n"
     ]
    },
    {
     "name": "stderr",
     "output_type": "stream",
     "text": [
      "                                                                       \r"
     ]
    },
    {
     "name": "stdout",
     "output_type": "stream",
     "text": [
      "[Epoch  25/30] train=0.5050  val=0.5069  time=  3.6s\n"
     ]
    },
    {
     "name": "stderr",
     "output_type": "stream",
     "text": [
      "                                                                       \r"
     ]
    },
    {
     "name": "stdout",
     "output_type": "stream",
     "text": [
      "[Epoch  26/30] train=0.5050  val=0.5068  time=  3.4s\n"
     ]
    },
    {
     "name": "stderr",
     "output_type": "stream",
     "text": [
      "                                                                       \r"
     ]
    },
    {
     "name": "stdout",
     "output_type": "stream",
     "text": [
      "[Epoch  27/30] train=0.5050  val=0.5068  time=  3.6s\n"
     ]
    },
    {
     "name": "stderr",
     "output_type": "stream",
     "text": [
      "                                                                       \r"
     ]
    },
    {
     "name": "stdout",
     "output_type": "stream",
     "text": [
      "[Epoch  28/30] train=0.5049  val=0.5068  time=  2.9s\n"
     ]
    },
    {
     "name": "stderr",
     "output_type": "stream",
     "text": [
      "                                                                       \r"
     ]
    },
    {
     "name": "stdout",
     "output_type": "stream",
     "text": [
      "[Epoch  29/30] train=0.5049  val=0.5067  time=  2.9s\n"
     ]
    },
    {
     "name": "stderr",
     "output_type": "stream",
     "text": [
      "                                                                       \r"
     ]
    },
    {
     "name": "stdout",
     "output_type": "stream",
     "text": [
      "[Epoch  30/30] train=0.5049  val=0.5068  time=  2.9s\n",
      "--- Training complete ------------------------------------------\n",
      "[Save] model → Models/Autoencoder/trunk-2i.pt\n",
      "\n",
      "--- Embedding full dataset ---------------------------------\n",
      "[Save] latent space → LatentSpace/trunk-2i_latent.pt\n"
     ]
    }
   ],
   "source": [
    "from Pipeline.secondTrainAutoencoder import run_autoencoder_training\n",
    "\n",
    "if os.path.exists(model_save_path) and not Training:\n",
    "    print(f\"Model already exists at {model_save_path}. Skipping training.\")\n",
    "else:\n",
    "    # Call the training function directly with clear, explicit parameters.\n",
    "    # This is robust, readable, and provides full IDE support.\n",
    "    run_autoencoder_training(\n",
    "        tensor_file=tensor_path,\n",
    "        model_save_path=model_save_path,\n",
    "        latent_save_path=latent_save_path,\n",
    "        latent_dims=latent_dims,\n",
    "        num_epochs=num_epochs,\n",
    "        batch_size=batch_size,\n",
    "        overdispersion=overdispersion,\n",
    "        lr=5e-4,      \n",
    "        val_split=0.2, \n",
    "        debug=False\n",
    "    )"
   ]
  },
  {
   "cell_type": "markdown",
   "id": "3770bc66",
   "metadata": {},
   "source": [
    "## 2.1: Visualizing the Latent Space"
   ]
  },
  {
   "cell_type": "code",
   "execution_count": 14,
   "id": "22df9c24",
   "metadata": {},
   "outputs": [
    {
     "name": "stdout",
     "output_type": "stream",
     "text": [
      "Loaded 172756 latent vectors.\n",
      "--- Starting 3D Visualization ---\n",
      "Fitting UMAP model...\n",
      "Creating k3d plot...\n",
      "Coloring by continuous timepoints and adding a color bar.\n",
      "--- Visualization Complete ---\n"
     ]
    },
    {
     "data": {
      "application/vnd.jupyter.widget-view+json": {
       "model_id": "c9351ed5d9ce4992bff59dcec875e200",
       "version_major": 2,
       "version_minor": 0
      },
      "text/plain": [
       "Plot(antialias=3, axes=['x', 'y', 'z'], axes_helper=1.0, axes_helper_colors=[16711680, 65280, 255], background…"
      ]
     },
     "execution_count": 14,
     "metadata": {},
     "output_type": "execute_result"
    }
   ],
   "source": [
    "from Genodesic.Visualizers import UMAP3D\n",
    "\n",
    "latent_data_bundle = torch.load(latent_save_path)\n",
    "\n",
    "# Extract the numpy arrays for plotting\n",
    "latent_reps = latent_data_bundle['latent_reps'].numpy()\n",
    "timepoints = latent_data_bundle['timepoints'].numpy().flatten()\n",
    "\n",
    "\n",
    "\n",
    "print(f\"Loaded {latent_reps.shape[0]} latent vectors.\")\n",
    "\n",
    "# --- 3. Call your visualization function ---\n",
    "UMAP3D(\n",
    "    latent_reps=latent_reps,\n",
    "    color_by_timepoints=timepoints,\n",
    "    title=f\"Latent Space UMAP (Trunk: {trunk})\"\n",
    ")"
   ]
  },
  {
   "cell_type": "markdown",
   "id": "3db4b9b5",
   "metadata": {},
   "source": [
    "# 3: Setting up Density Models"
   ]
  },
  {
   "cell_type": "code",
   "execution_count": null,
   "id": "40370ee0",
   "metadata": {},
   "outputs": [],
   "source": []
  }
 ],
 "metadata": {
  "kernelspec": {
   "display_name": "My SIF Kernel",
   "language": "python",
   "name": "sif_kernel"
  },
  "language_info": {
   "codemirror_mode": {
    "name": "ipython",
    "version": 3
   },
   "file_extension": ".py",
   "mimetype": "text/x-python",
   "name": "python",
   "nbconvert_exporter": "python",
   "pygments_lexer": "ipython3",
   "version": "3.10.18"
  }
 },
 "nbformat": 4,
 "nbformat_minor": 5
}
