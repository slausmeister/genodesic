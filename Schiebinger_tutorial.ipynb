{
 "cells": [
  {
   "cell_type": "code",
   "execution_count": 31,
   "id": "e867a467",
   "metadata": {},
   "outputs": [],
   "source": [
    "import os"
   ]
  },
  {
   "cell_type": "markdown",
   "id": "4cf67d81",
   "metadata": {},
   "source": [
    "# 0: Downloading the Schiebinger Dataset"
   ]
  },
  {
   "cell_type": "code",
   "execution_count": 32,
   "id": "3070d181",
   "metadata": {},
   "outputs": [
    {
     "name": "stdout",
     "output_type": "stream",
     "text": [
      "--- Schiebinger Dataset Downloader ---\n",
      "Directory Data/Schiebinger already exists and is not empty.\n",
      "Continuing: will attempt to extract/unpack any archives found in this directory.\n",
      "---\n",
      "Dataset is located in: /Data/Schiebinger\n"
     ]
    }
   ],
   "source": [
    "!./SchiebingerDownload.sh"
   ]
  },
  {
   "cell_type": "markdown",
   "id": "df3fba69",
   "metadata": {},
   "source": [
    "# 1: Extracting HVGs of chosen Branch\n"
   ]
  },
  {
   "cell_type": "code",
   "execution_count": null,
   "id": "f48547b0",
   "metadata": {},
   "outputs": [],
   "source": [
    "trunk = \"2i\"  # Options: \"2i\", \"serum\", \"both\"\n",
    "n_hvg = 2000  # Choose the number of HVGs you want to extract\n",
    "\n",
    "tensor_file = f\"schiebinger_hvg_tensor_trunk-{trunk}_{n_hvg}hvg.pt\"\n",
    "\n"
   ]
  },
  {
   "cell_type": "code",
   "execution_count": 34,
   "id": "26c36f99",
   "metadata": {},
   "outputs": [
    {
     "name": "stdout",
     "output_type": "stream",
     "text": [
      "File schiebinger_hvg_tensor_trunk-2i_2000hvg.pt already exists. Skipping HVG extraction.\n"
     ]
    }
   ],
   "source": [
    "if os.path.exists(f\"Pipeline/HVGs/{tensor_file}\"):\n",
    "    print(f\"File {tensor_file} already exists. Skipping HVG extraction.\")\n",
    "else:\n",
    "    !python -m Pipeline.1_SelectHVGs --data_dir Data/Schiebinger --trunk $trunk  --output_file $tensor_file --output_dir Pipeline/HVGs/ --n_hvg $n_hvg"
   ]
  },
  {
   "cell_type": "markdown",
   "id": "9291c013",
   "metadata": {},
   "source": [
    "# 2: Training the Autoencoder"
   ]
  },
  {
   "cell_type": "code",
   "execution_count": 35,
   "id": "91baf53c",
   "metadata": {},
   "outputs": [],
   "source": [
    "model_save_path = f\"Models/Autoencoder/trunk-{trunk}.pt\"\n",
    "\n",
    "\n",
    "latent_dims = \"1000 300 100 30\"\n",
    "\n",
    "batch_size = 512\n",
    "overdispersion = 0.3\n",
    "\n",
    "num_epochs = 100\n",
    "Training = False\n",
    "\n"
   ]
  },
  {
   "cell_type": "code",
   "execution_count": 36,
   "id": "eb9a821b",
   "metadata": {},
   "outputs": [
    {
     "name": "stdout",
     "output_type": "stream",
     "text": [
      "Model already exists at Models/Autoencoder/trunk-2i.pt. Skipping training.\n"
     ]
    }
   ],
   "source": [
    "if os.path.exists(model_save_path) and not Training:\n",
    "    print(f\"Model already exists at {model_save_path}. Skipping training.\")\n",
    "else:\n",
    "    !python -m Pipeline.2_TrainAutoencoder \\\n",
    "        --tensor_file Pipeline/HVGs/{tensor_file} \\\n",
    "        --model_save_path {model_save_path} \\\n",
    "        --num_epochs {num_epochs} \\\n",
    "        --batch_size {batch_size} \\\n",
    "        --latent_dims {latent_dims} \\\n",
    "        --overdispersion {overdispersion}"
   ]
  },
  {
   "cell_type": "markdown",
   "id": "3770bc66",
   "metadata": {},
   "source": [
    "## 2.1: Visualizing the Latent Space"
   ]
  },
  {
   "cell_type": "code",
   "execution_count": null,
   "id": "22df9c24",
   "metadata": {},
   "outputs": [],
   "source": []
  }
 ],
 "metadata": {
  "kernelspec": {
   "display_name": "genodesic",
   "language": "python",
   "name": "python3"
  },
  "language_info": {
   "codemirror_mode": {
    "name": "ipython",
    "version": 3
   },
   "file_extension": ".py",
   "mimetype": "text/x-python",
   "name": "python",
   "nbconvert_exporter": "python",
   "pygments_lexer": "ipython3",
   "version": "3.10.13"
  }
 },
 "nbformat": 4,
 "nbformat_minor": 5
}
